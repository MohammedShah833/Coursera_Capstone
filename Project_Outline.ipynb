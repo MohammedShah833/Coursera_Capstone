{
 "cells": [
  {
   "cell_type": "markdown",
   "metadata": {},
   "source": [
    "# Capstone Project - The Battle of Neighborhoods"
   ]
  },
  {
   "cell_type": "markdown",
   "metadata": {},
   "source": [
    "---"
   ]
  },
  {
   "cell_type": "markdown",
   "metadata": {},
   "source": [
    "## Introduction to the problem"
   ]
  },
  {
   "cell_type": "markdown",
   "metadata": {},
   "source": [
    "For this project, I will be looking at the boroughs of London in the U.K.\n",
    "I will be aiming to answer the question \"Is there a correlation between average income in a London borough, the level of child obesity and the venues in the borough?\"\n",
    "I will be doing this for public health UK to see if the local authorities should limit number of business license’s it gives to certain types of venues in order to improve child health in their boroughs.\n"
   ]
  },
  {
   "cell_type": "markdown",
   "metadata": {},
   "source": [
    "---"
   ]
  },
  {
   "cell_type": "markdown",
   "metadata": {},
   "source": [
    "## Who will this information be useful to?"
   ]
  },
  {
   "cell_type": "markdown",
   "metadata": {},
   "source": [
    "If I can prove a correlation between average income, child obesity levels and the number of unhealthy venues in a borough:\n",
    "\n",
    "The local councils can use this information to limit the number of licences it grants to unhealthy venues in the borough, like fast food outlets and increase the spending on healthy venues like gyms and outdoor spaces like parks.\n",
    "\n",
    "The local health services could also use the information to better educate the children in the boroughs with the highest density of unhealthy venues, on healthy eating and life style choices.\n",
    "\n",
    "This will allow the local councils and health services to improve the health of the children in its borough and improve the future health and wellbeing of the children, thus saving the councils and health services vast sums of money by tackling childhood obesity at an early stage before any of future long term health and employment issues start to have a serious impact on their wellbeing.  \n"
   ]
  },
  {
   "cell_type": "markdown",
   "metadata": {},
   "source": [
    "---"
   ]
  },
  {
   "cell_type": "markdown",
   "metadata": {},
   "source": [
    "## What data will be needed?"
   ]
  },
  {
   "cell_type": "markdown",
   "metadata": {},
   "source": [
    "I will start by collecting all the postal code numbers for London. I will this data along with the co ordinates of the postal code areas to get nearby venue information from fourSquare.\n",
    "\n",
    "I will need the child obisity and average income levels for each of the boroughs of london.\n",
    "\n",
    "I will need geo map broundries for the differnt brouoghs of london so I can use the above data to produce Choropleth Maps of London child obisity and average income for each of the boroughs  "
   ]
  },
  {
   "cell_type": "markdown",
   "metadata": {},
   "source": [
    "---"
   ]
  },
  {
   "cell_type": "markdown",
   "metadata": {},
   "source": [
    "## How will the data be obtained?"
   ]
  },
  {
   "cell_type": "markdown",
   "metadata": {},
   "source": [
    "The postal code data for London will be obtained from https://www.milesfaster.co.uk/london-postcodes-list.htm which contains a handy list of London Postal codes and the Borough/s it belongs to.\n",
    "\n",
    "The London geoJSON file that marks the boundaries for the London Boroughs from https://joshuaboyd1.carto.com/tables/london_boroughs_proper/public\n",
    "\n",
    "The data on child obesity in London boroughs will be obtained from https://www.trustforlondon.org.uk/data/child-obesity/  and https://data.london.gov.uk/dataset/prevalence-childhood-obesity-boroughwhere I can download child obesity data in CSV form.\n",
    "\n",
    "The data for the average income for each London borough will be obtained from https://data.london.gov.uk/dataset/earnings-place-residence-borough\n"
   ]
  },
  {
   "cell_type": "code",
   "execution_count": null,
   "metadata": {},
   "outputs": [],
   "source": []
  }
 ],
 "metadata": {
  "kernelspec": {
   "display_name": "Python 3",
   "language": "python",
   "name": "python3"
  },
  "language_info": {
   "codemirror_mode": {
    "name": "ipython",
    "version": 3
   },
   "file_extension": ".py",
   "mimetype": "text/x-python",
   "name": "python",
   "nbconvert_exporter": "python",
   "pygments_lexer": "ipython3",
   "version": "3.7.8rc1"
  }
 },
 "nbformat": 4,
 "nbformat_minor": 4
}
